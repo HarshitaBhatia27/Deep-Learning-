{
  "nbformat": 4,
  "nbformat_minor": 0,
  "metadata": {
    "colab": {
      "provenance": [],
      "gpuType": "T4",
      "authorship_tag": "ABX9TyMqvRYqNV1soZdXSlGRqwL0",
      "include_colab_link": true
    },
    "kernelspec": {
      "name": "python3",
      "display_name": "Python 3"
    },
    "language_info": {
      "name": "python"
    },
    "accelerator": "GPU"
  },
  "cells": [
    {
      "cell_type": "markdown",
      "metadata": {
        "id": "view-in-github",
        "colab_type": "text"
      },
      "source": [
        "<a href=\"https://colab.research.google.com/github/HarshitaBhatia27/Deep-Learning-/blob/main/Tensorflow.ipynb\" target=\"_parent\"><img src=\"https://colab.research.google.com/assets/colab-badge.svg\" alt=\"Open In Colab\"/></a>"
      ]
    },
    {
      "cell_type": "code",
      "execution_count": null,
      "metadata": {
        "colab": {
          "base_uri": "https://localhost:8080/"
        },
        "id": "krbcERYM4QOX",
        "outputId": "dcf1605c-0b6d-4db7-eb0d-034ee2866b98"
      },
      "outputs": [
        {
          "output_type": "stream",
          "name": "stdout",
          "text": [
            "Tensorflow version: 2.12.0\n",
            "Eager execution is : True\n",
            "Keras version: 2.12.0\n"
          ]
        }
      ],
      "source": [
        "import tensorflow as tf\n",
        "\n",
        "print(\"Tensorflow version: {}\".format(tf.__version__))\n",
        "print(\"Eager execution is : {}\".format(tf.executing_eagerly()))\n",
        "print(\"Keras version: {}\".format(tf.keras.__version__))\n",
        "\n"
      ]
    },
    {
      "cell_type": "markdown",
      "source": [
        "GPU/CPU check"
      ],
      "metadata": {
        "id": "0weEETsn4tsZ"
      }
    },
    {
      "cell_type": "code",
      "source": [
        "if tf.test.is_gpu_available():\n",
        "  print('Running on GPU')\n",
        "else:\n",
        "  print(\"Running on CPU\")\n"
      ],
      "metadata": {
        "colab": {
          "base_uri": "https://localhost:8080/"
        },
        "id": "u6Xz-oAJ4p5o",
        "outputId": "70ca9e62-49e4-4316-b861-21a6b28745e1"
      },
      "execution_count": null,
      "outputs": [
        {
          "output_type": "stream",
          "name": "stderr",
          "text": [
            "WARNING:tensorflow:From <ipython-input-2-28ed3932ba91>:1: is_gpu_available (from tensorflow.python.framework.test_util) is deprecated and will be removed in a future version.\n",
            "Instructions for updating:\n",
            "Use `tf.config.list_physical_devices('GPU')` instead.\n"
          ]
        },
        {
          "output_type": "stream",
          "name": "stdout",
          "text": [
            "Running on GPU\n"
          ]
        }
      ]
    },
    {
      "cell_type": "code",
      "source": [
        "tf.config.list_physical_devices('CPU')"
      ],
      "metadata": {
        "colab": {
          "base_uri": "https://localhost:8080/"
        },
        "id": "2ilK0o2A45Pn",
        "outputId": "1f7bb018-81b7-43f6-edb8-1579dd0d9024"
      },
      "execution_count": null,
      "outputs": [
        {
          "output_type": "execute_result",
          "data": {
            "text/plain": [
              "[PhysicalDevice(name='/physical_device:CPU:0', device_type='CPU')]"
            ]
          },
          "metadata": {},
          "execution_count": 3
        }
      ]
    },
    {
      "cell_type": "code",
      "source": [
        "tf.config.list_physical_devices('GPU')"
      ],
      "metadata": {
        "colab": {
          "base_uri": "https://localhost:8080/"
        },
        "id": "5WYdPEXL5Sv5",
        "outputId": "6ff1f9b0-4d39-4081-f53b-21bcb8ba5164"
      },
      "execution_count": null,
      "outputs": [
        {
          "output_type": "execute_result",
          "data": {
            "text/plain": [
              "[PhysicalDevice(name='/physical_device:GPU:0', device_type='GPU')]"
            ]
          },
          "metadata": {},
          "execution_count": 4
        }
      ]
    },
    {
      "cell_type": "markdown",
      "source": [
        "Tensor Constant"
      ],
      "metadata": {
        "id": "PFh87DGF5cAT"
      }
    },
    {
      "cell_type": "code",
      "source": [
        "Tens=tf.constant(42)\n",
        "Tens"
      ],
      "metadata": {
        "colab": {
          "base_uri": "https://localhost:8080/"
        },
        "id": "lntgeWMb5WJl",
        "outputId": "9fe13d82-de55-4439-b91f-75534feb34ec"
      },
      "execution_count": null,
      "outputs": [
        {
          "output_type": "execute_result",
          "data": {
            "text/plain": [
              "<tf.Tensor: shape=(), dtype=int32, numpy=42>"
            ]
          },
          "metadata": {},
          "execution_count": 5
        }
      ]
    },
    {
      "cell_type": "code",
      "source": [
        "Tens.numpy()  #get the value"
      ],
      "metadata": {
        "colab": {
          "base_uri": "https://localhost:8080/"
        },
        "id": "EXlYiaqj5jUq",
        "outputId": "fbfdc62e-9345-44b5-c055-ff0dc3a4287d"
      },
      "execution_count": null,
      "outputs": [
        {
          "output_type": "execute_result",
          "data": {
            "text/plain": [
              "42"
            ]
          },
          "metadata": {},
          "execution_count": 6
        }
      ]
    },
    {
      "cell_type": "code",
      "source": [
        "Tens1=tf.constant(1,dtype=tf.int64)\n",
        "Tens1 #value 1 and datatype is int64"
      ],
      "metadata": {
        "colab": {
          "base_uri": "https://localhost:8080/"
        },
        "id": "WHVjp1CX5k4H",
        "outputId": "ab878586-de76-4f6b-926c-a5885dcbb144"
      },
      "execution_count": null,
      "outputs": [
        {
          "output_type": "execute_result",
          "data": {
            "text/plain": [
              "<tf.Tensor: shape=(), dtype=int64, numpy=1>"
            ]
          },
          "metadata": {},
          "execution_count": 7
        }
      ]
    },
    {
      "cell_type": "code",
      "source": [
        "Tens_x=tf.constant([[4,2],[9,5]])\n",
        "print(Tens_x)"
      ],
      "metadata": {
        "colab": {
          "base_uri": "https://localhost:8080/"
        },
        "id": "7Fpu6aZX5tkt",
        "outputId": "8a83ab95-1be4-4fcd-9fe5-dc96f23f2518"
      },
      "execution_count": null,
      "outputs": [
        {
          "output_type": "stream",
          "name": "stdout",
          "text": [
            "tf.Tensor(\n",
            "[[4 2]\n",
            " [9 5]], shape=(2, 2), dtype=int32)\n"
          ]
        }
      ]
    },
    {
      "cell_type": "code",
      "source": [
        "Tens_x.numpy()"
      ],
      "metadata": {
        "colab": {
          "base_uri": "https://localhost:8080/"
        },
        "id": "Z-2uYqRi57G-",
        "outputId": "398ee280-1dab-4e65-a318-9e731102a245"
      },
      "execution_count": null,
      "outputs": [
        {
          "output_type": "execute_result",
          "data": {
            "text/plain": [
              "array([[4, 2],\n",
              "       [9, 5]], dtype=int32)"
            ]
          },
          "metadata": {},
          "execution_count": 9
        }
      ]
    },
    {
      "cell_type": "code",
      "source": [
        "print(\"Shape\", Tens_x.shape)\n",
        "print(Tens_x.dtype)"
      ],
      "metadata": {
        "colab": {
          "base_uri": "https://localhost:8080/"
        },
        "id": "LoZyL5kj59wg",
        "outputId": "d647c0cb-6599-41cf-c280-25ebb08780d2"
      },
      "execution_count": null,
      "outputs": [
        {
          "output_type": "stream",
          "name": "stdout",
          "text": [
            "Shape (2, 2)\n",
            "<dtype: 'int32'>\n"
          ]
        }
      ]
    },
    {
      "cell_type": "markdown",
      "source": [
        "Commonly used methods is to generate constant tf.ones and tf.zeros like of numpy np.ones and np.zeros"
      ],
      "metadata": {
        "id": "nJLWkf_e6F3u"
      }
    },
    {
      "cell_type": "code",
      "source": [
        "print(tf.ones(shape=(2,3)))"
      ],
      "metadata": {
        "colab": {
          "base_uri": "https://localhost:8080/"
        },
        "id": "iVDI3zuh6DTv",
        "outputId": "06f3790e-92da-4c10-b3b2-714a854ca625"
      },
      "execution_count": null,
      "outputs": [
        {
          "output_type": "stream",
          "name": "stdout",
          "text": [
            "tf.Tensor(\n",
            "[[1. 1. 1.]\n",
            " [1. 1. 1.]], shape=(2, 3), dtype=float32)\n"
          ]
        }
      ]
    },
    {
      "cell_type": "code",
      "source": [
        "print(tf.zeros(shape=(3,3)))"
      ],
      "metadata": {
        "colab": {
          "base_uri": "https://localhost:8080/"
        },
        "id": "fQhk-XGm6Rvy",
        "outputId": "feab2a35-21ce-40f3-c42a-3c03ddde3af9"
      },
      "execution_count": null,
      "outputs": [
        {
          "output_type": "stream",
          "name": "stdout",
          "text": [
            "tf.Tensor(\n",
            "[[0. 0. 0.]\n",
            " [0. 0. 0.]\n",
            " [0. 0. 0.]], shape=(3, 3), dtype=float32)\n"
          ]
        }
      ]
    },
    {
      "cell_type": "code",
      "source": [
        "const2=tf.constant([[3,4,5],[3,4,5]])\n",
        "const3=tf.constant([[1,2,3],[1,2,3]])\n",
        "result=tf.add(const2,const3)\n",
        "print(result)"
      ],
      "metadata": {
        "colab": {
          "base_uri": "https://localhost:8080/"
        },
        "id": "j2OI4kX16UqB",
        "outputId": "b7f18853-be12-47a4-f407-853488413ac5"
      },
      "execution_count": null,
      "outputs": [
        {
          "output_type": "stream",
          "name": "stdout",
          "text": [
            "tf.Tensor(\n",
            "[[4 6 8]\n",
            " [4 6 8]], shape=(2, 3), dtype=int32)\n"
          ]
        }
      ]
    },
    {
      "cell_type": "markdown",
      "source": [
        "Random constant\n"
      ],
      "metadata": {
        "id": "wQm2CwbC6o4w"
      }
    },
    {
      "cell_type": "code",
      "source": [
        "#normal dist random const\n",
        "tf.random.normal(shape=(2,2),mean=0,stddev=1.0)"
      ],
      "metadata": {
        "colab": {
          "base_uri": "https://localhost:8080/"
        },
        "id": "iiHtKrv56kRs",
        "outputId": "4a00039a-8fb1-4535-ea67-58b4c6dbf8cd"
      },
      "execution_count": null,
      "outputs": [
        {
          "output_type": "execute_result",
          "data": {
            "text/plain": [
              "<tf.Tensor: shape=(2, 2), dtype=float32, numpy=\n",
              "array([[-0.713091  ,  0.07995564],\n",
              "       [ 0.8125579 , -0.75063556]], dtype=float32)>"
            ]
          },
          "metadata": {},
          "execution_count": 14
        }
      ]
    },
    {
      "cell_type": "code",
      "source": [
        "tf.random.uniform(shape=(2,2),minval=0,maxval=5,dtype=tf.int32)"
      ],
      "metadata": {
        "colab": {
          "base_uri": "https://localhost:8080/"
        },
        "id": "dxpTgoZn6zqP",
        "outputId": "fa0db27f-a8ff-4d55-8025-4314188d6746"
      },
      "execution_count": null,
      "outputs": [
        {
          "output_type": "execute_result",
          "data": {
            "text/plain": [
              "<tf.Tensor: shape=(2, 2), dtype=int32, numpy=\n",
              "array([[2, 3],\n",
              "       [1, 3]], dtype=int32)>"
            ]
          },
          "metadata": {},
          "execution_count": 15
        }
      ]
    },
    {
      "cell_type": "markdown",
      "source": [
        "Variables ---> special tensor that is used to store variables and needs to be initialized with some values"
      ],
      "metadata": {
        "id": "GZ_tuURp7BAx"
      }
    },
    {
      "cell_type": "code",
      "source": [
        "var0= 23 #python variable\n",
        "var1= tf.Variable(24) #rank 0 tensor\n",
        "var2=tf.Variable([[[0.,1.,2.],[3.,4.,5.]],[[6.,7.,8.],[9.,10.,11.]]]) #rank 3 tensor\n",
        "var0, var1, var2"
      ],
      "metadata": {
        "colab": {
          "base_uri": "https://localhost:8080/"
        },
        "id": "Vvs2XOYO69I-",
        "outputId": "72b0c329-702b-4b40-b8be-4e013ce05ae9"
      },
      "execution_count": null,
      "outputs": [
        {
          "output_type": "execute_result",
          "data": {
            "text/plain": [
              "(23,\n",
              " <tf.Variable 'Variable:0' shape=() dtype=int32, numpy=24>,\n",
              " <tf.Variable 'Variable:0' shape=(2, 2, 3) dtype=float32, numpy=\n",
              " array([[[ 0.,  1.,  2.],\n",
              "         [ 3.,  4.,  5.]],\n",
              " \n",
              "        [[ 6.,  7.,  8.],\n",
              "         [ 9., 10., 11.]]], dtype=float32)>)"
            ]
          },
          "metadata": {},
          "execution_count": 16
        }
      ]
    },
    {
      "cell_type": "markdown",
      "source": [
        "The default dtype for int is int32 and float is fload32"
      ],
      "metadata": {
        "id": "Mqw8EnqN7qYK"
      }
    },
    {
      "cell_type": "code",
      "source": [
        "#changing dtype explicitly\n",
        "float_var64=tf.Variable(100,dtype=tf.float16)\n",
        "float_var64"
      ],
      "metadata": {
        "colab": {
          "base_uri": "https://localhost:8080/"
        },
        "id": "6YAB7H_Z7e12",
        "outputId": "9e4e2915-66c5-4bf4-e91b-bc17815b2858"
      },
      "execution_count": null,
      "outputs": [
        {
          "output_type": "execute_result",
          "data": {
            "text/plain": [
              "<tf.Variable 'Variable:0' shape=() dtype=float16, numpy=100.0>"
            ]
          },
          "metadata": {},
          "execution_count": 17
        }
      ]
    },
    {
      "cell_type": "markdown",
      "source": [
        "To reassign a variable, use var.assign()"
      ],
      "metadata": {
        "id": "2MsFWZX-8FP_"
      }
    },
    {
      "cell_type": "code",
      "source": [
        "var_reassign = tf.Variable(89.0)\n",
        "var_reassign"
      ],
      "metadata": {
        "colab": {
          "base_uri": "https://localhost:8080/"
        },
        "id": "VzsnEm1B77Mz",
        "outputId": "0b7ebfcb-043e-427e-df30-85a90a4f6c0e"
      },
      "execution_count": null,
      "outputs": [
        {
          "output_type": "execute_result",
          "data": {
            "text/plain": [
              "<tf.Variable 'Variable:0' shape=() dtype=float32, numpy=89.0>"
            ]
          },
          "metadata": {},
          "execution_count": 18
        }
      ]
    },
    {
      "cell_type": "code",
      "source": [
        "var_reassign.assign(100.)\n",
        "var_reassign\n",
        "#value if changed"
      ],
      "metadata": {
        "colab": {
          "base_uri": "https://localhost:8080/"
        },
        "id": "MMxBp3208PhK",
        "outputId": "523ed98a-d499-44d9-c12c-34cbd953e0c2"
      },
      "execution_count": null,
      "outputs": [
        {
          "output_type": "execute_result",
          "data": {
            "text/plain": [
              "<tf.Variable 'Variable:0' shape=() dtype=float32, numpy=100.0>"
            ]
          },
          "metadata": {},
          "execution_count": 19
        }
      ]
    },
    {
      "cell_type": "code",
      "source": [
        "initial_value=tf.random.normal(shape=(2,2))\n",
        "a=tf.Variable(initial_value)\n",
        "print(a)"
      ],
      "metadata": {
        "colab": {
          "base_uri": "https://localhost:8080/"
        },
        "id": "OoX12vxv8VVc",
        "outputId": "cf7e046e-699c-4a83-e379-c8d5432b1256"
      },
      "execution_count": null,
      "outputs": [
        {
          "output_type": "stream",
          "name": "stdout",
          "text": [
            "<tf.Variable 'Variable:0' shape=(2, 2) dtype=float32, numpy=\n",
            "array([[ 1.0843743 ,  0.59113544],\n",
            "       [-1.2657121 ,  0.9939107 ]], dtype=float32)>\n"
          ]
        }
      ]
    },
    {
      "cell_type": "code",
      "source": [
        "new_value= tf.random.normal(shape=(2,2))\n",
        "a.assign(new_value)\n",
        "for i in range(2):\n",
        "  for j in range(2):\n",
        "    assert a[i,j]==new_value[i,j]"
      ],
      "metadata": {
        "id": "Vz_6wmks8lQG"
      },
      "execution_count": null,
      "outputs": []
    },
    {
      "cell_type": "code",
      "source": [
        "added_value = tf.random.normal(shape=(2,2))\n",
        "a.assign_add(added_value)\n",
        "for i in range(2):\n",
        "  for j in range(2):\n",
        "    assert a[i,j]==new_value[i,j]+added_value[i,j]"
      ],
      "metadata": {
        "id": "nxECro1b_KjX"
      },
      "execution_count": null,
      "outputs": []
    },
    {
      "cell_type": "markdown",
      "source": [
        "We can assign \"=\" with assign(value), or assign_add(value) with \"+=\" or assign_sub(value) with \"-=\""
      ],
      "metadata": {
        "id": "5wRb8BTH_qkL"
      }
    },
    {
      "cell_type": "markdown",
      "source": [
        "Shaping a tensor"
      ],
      "metadata": {
        "id": "LTlHcq63_28_"
      }
    },
    {
      "cell_type": "code",
      "source": [
        "tensor=tf.Variable([[[0.,1.,2.],[3.,4.,5]],[[6.,7.,8.],[9.,10.,11.]]]) #tensor variable\n",
        "print(tensor.shape)"
      ],
      "metadata": {
        "colab": {
          "base_uri": "https://localhost:8080/"
        },
        "id": "3T9WqNwk_pYv",
        "outputId": "e661f4a8-7e00-4a9b-ac9e-c2fe5eb84102"
      },
      "execution_count": null,
      "outputs": [
        {
          "output_type": "stream",
          "name": "stdout",
          "text": [
            "(2, 2, 3)\n"
          ]
        }
      ]
    },
    {
      "cell_type": "code",
      "source": [
        "tensor1= tf.reshape(tensor,[2,6]) # 2 rows 6 cols\n",
        "tensor2=tf.reshape(tensor,[1,12]) # 1 row 12 cols\n",
        "tensor1"
      ],
      "metadata": {
        "colab": {
          "base_uri": "https://localhost:8080/"
        },
        "id": "U3S4lwD6AR8S",
        "outputId": "86aa8fdb-6cf4-4427-88ed-067d72db9010"
      },
      "execution_count": null,
      "outputs": [
        {
          "output_type": "execute_result",
          "data": {
            "text/plain": [
              "<tf.Tensor: shape=(2, 6), dtype=float32, numpy=\n",
              "array([[ 0.,  1.,  2.,  3.,  4.,  5.],\n",
              "       [ 6.,  7.,  8.,  9., 10., 11.]], dtype=float32)>"
            ]
          },
          "metadata": {},
          "execution_count": 24
        }
      ]
    },
    {
      "cell_type": "code",
      "source": [
        "tensor2"
      ],
      "metadata": {
        "colab": {
          "base_uri": "https://localhost:8080/"
        },
        "id": "13R76ujiDnNa",
        "outputId": "8e773925-0622-4410-f128-f243e83b4272"
      },
      "execution_count": null,
      "outputs": [
        {
          "output_type": "execute_result",
          "data": {
            "text/plain": [
              "<tf.Tensor: shape=(1, 12), dtype=float32, numpy=\n",
              "array([[ 0.,  1.,  2.,  3.,  4.,  5.,  6.,  7.,  8.,  9., 10., 11.]],\n",
              "      dtype=float32)>"
            ]
          },
          "metadata": {},
          "execution_count": 25
        }
      ]
    },
    {
      "cell_type": "markdown",
      "source": [
        "**Ranking(dimensions) of a tensor**\n",
        "\n",
        "\n",
        "The rank of a tensor is the no. of dimensions it has, that is, the no. of indices that are required to specify any particular element of that tensor."
      ],
      "metadata": {
        "id": "83GWczsZD7zK"
      }
    },
    {
      "cell_type": "code",
      "source": [
        "tensor"
      ],
      "metadata": {
        "colab": {
          "base_uri": "https://localhost:8080/"
        },
        "id": "IfTrtbbkFft-",
        "outputId": "50fa5a65-5197-4af7-bb2f-6123eb29dab6"
      },
      "execution_count": null,
      "outputs": [
        {
          "output_type": "execute_result",
          "data": {
            "text/plain": [
              "<tf.Variable 'Variable:0' shape=(2, 2, 3) dtype=float32, numpy=\n",
              "array([[[ 0.,  1.,  2.],\n",
              "        [ 3.,  4.,  5.]],\n",
              "\n",
              "       [[ 6.,  7.,  8.],\n",
              "        [ 9., 10., 11.]]], dtype=float32)>"
            ]
          },
          "metadata": {},
          "execution_count": 26
        }
      ]
    },
    {
      "cell_type": "code",
      "source": [
        "tf.rank(tensor)\n",
        "# 3 dimensions so rank is 3\n",
        "#the shape is () because the o/p here is a scalar value"
      ],
      "metadata": {
        "colab": {
          "base_uri": "https://localhost:8080/"
        },
        "id": "dkDWRgDUDnw_",
        "outputId": "554a2fcd-0bae-49bf-e0fd-4212f3bd8818"
      },
      "execution_count": null,
      "outputs": [
        {
          "output_type": "execute_result",
          "data": {
            "text/plain": [
              "<tf.Tensor: shape=(), dtype=int32, numpy=3>"
            ]
          },
          "metadata": {},
          "execution_count": 27
        }
      ]
    },
    {
      "cell_type": "markdown",
      "source": [
        "Specifying an element of a tensor"
      ],
      "metadata": {
        "id": "eSD5XiGtFQ46"
      }
    },
    {
      "cell_type": "code",
      "source": [
        "tensor3= tensor[1,0,2] #slice 1, row 0, col 2\n",
        "tensor3"
      ],
      "metadata": {
        "colab": {
          "base_uri": "https://localhost:8080/"
        },
        "id": "lD6huyY0FClY",
        "outputId": "596a48b4-4a06-4cda-fe8a-ec6607af3167"
      },
      "execution_count": null,
      "outputs": [
        {
          "output_type": "execute_result",
          "data": {
            "text/plain": [
              "<tf.Tensor: shape=(), dtype=float32, numpy=8.0>"
            ]
          },
          "metadata": {},
          "execution_count": 28
        }
      ]
    },
    {
      "cell_type": "markdown",
      "source": [
        "Casting a tensor to a Numpy/Python variable"
      ],
      "metadata": {
        "id": "5nefffggFxAU"
      }
    },
    {
      "cell_type": "code",
      "source": [
        "print(tensor.numpy())"
      ],
      "metadata": {
        "colab": {
          "base_uri": "https://localhost:8080/"
        },
        "id": "W935md6sFZKs",
        "outputId": "30d40b5a-9ee2-449b-84e4-15dff116b8ab"
      },
      "execution_count": null,
      "outputs": [
        {
          "output_type": "stream",
          "name": "stdout",
          "text": [
            "[[[ 0.  1.  2.]\n",
            "  [ 3.  4.  5.]]\n",
            "\n",
            " [[ 6.  7.  8.]\n",
            "  [ 9. 10. 11.]]]\n"
          ]
        }
      ]
    },
    {
      "cell_type": "code",
      "source": [
        "print(tensor[0,0,2].numpy())\n",
        "#first array(0th index), first row(0th index), 3rd element(2nd index)"
      ],
      "metadata": {
        "colab": {
          "base_uri": "https://localhost:8080/"
        },
        "id": "mGPsKt3JF4RU",
        "outputId": "880211bb-9bbe-4366-a1da-649a8ba4a0b5"
      },
      "execution_count": null,
      "outputs": [
        {
          "output_type": "stream",
          "name": "stdout",
          "text": [
            "2.0\n"
          ]
        }
      ]
    },
    {
      "cell_type": "markdown",
      "source": [
        "Finding the size (no. of elements) of a tensor"
      ],
      "metadata": {
        "id": "3grWTf6kGe9_"
      }
    },
    {
      "cell_type": "code",
      "source": [
        "tensor_size = tf.size(input=tensor).numpy()\n",
        "tensor_size"
      ],
      "metadata": {
        "colab": {
          "base_uri": "https://localhost:8080/"
        },
        "id": "2KFUffKHF7xV",
        "outputId": "4c0ee3e7-127d-4d5f-84b2-42e2da24e1e6"
      },
      "execution_count": null,
      "outputs": [
        {
          "output_type": "execute_result",
          "data": {
            "text/plain": [
              "12"
            ]
          },
          "metadata": {},
          "execution_count": 31
        }
      ]
    },
    {
      "cell_type": "code",
      "source": [
        "tensor3.dtype #dtype of tensor"
      ],
      "metadata": {
        "colab": {
          "base_uri": "https://localhost:8080/"
        },
        "id": "MjwRj9rIGm32",
        "outputId": "d3f8e7e4-b176-4e20-c8e1-8dcb06335423"
      },
      "execution_count": null,
      "outputs": [
        {
          "output_type": "execute_result",
          "data": {
            "text/plain": [
              "tf.float32"
            ]
          },
          "metadata": {},
          "execution_count": 32
        }
      ]
    },
    {
      "cell_type": "markdown",
      "source": [
        "## Tensorflow Mathematical Operations\n",
        "\n",
        "Can be used as numpy for artifical operations. Tensorflow can not execute these operations on the GPU or TPU"
      ],
      "metadata": {
        "id": "VYEG0TDUGuhE"
      }
    },
    {
      "cell_type": "code",
      "source": [
        "a=tf.random.normal(shape=(2,2))\n",
        "b=tf.random.normal(shape=(2,2))\n",
        "c=a+b\n",
        "d= tf.square(c)\n",
        "e= tf.exp(c)\n",
        "print(\"A: \", a)\n",
        "print(\"B: \" ,b)\n",
        "print(\"C: \",c)\n",
        "print(\"D: \", d)\n",
        "print(\"E: \", e)"
      ],
      "metadata": {
        "colab": {
          "base_uri": "https://localhost:8080/"
        },
        "id": "Mvzp_DAHGqF2",
        "outputId": "9fbbf8e3-00e8-4453-d23d-3c3c2bae1695"
      },
      "execution_count": null,
      "outputs": [
        {
          "output_type": "stream",
          "name": "stdout",
          "text": [
            "A:  tf.Tensor(\n",
            "[[-0.33164555 -0.08448225]\n",
            " [-0.9384639   1.514233  ]], shape=(2, 2), dtype=float32)\n",
            "B:  tf.Tensor(\n",
            "[[-0.21453856 -1.7643473 ]\n",
            " [ 0.49738353  0.8297921 ]], shape=(2, 2), dtype=float32)\n",
            "C:  tf.Tensor(\n",
            "[[-0.5461841 -1.8488295]\n",
            " [-0.4410804  2.3440251]], shape=(2, 2), dtype=float32)\n",
            "D:  tf.Tensor(\n",
            "[[0.2983171  3.4181705 ]\n",
            " [0.19455191 5.494454  ]], shape=(2, 2), dtype=float32)\n",
            "E:  tf.Tensor(\n",
            "[[ 0.57915556  0.15742132]\n",
            " [ 0.643341   10.423106  ]], shape=(2, 2), dtype=float32)\n"
          ]
        }
      ]
    },
    {
      "cell_type": "markdown",
      "source": [
        "Performing element-wise primitive tensor operations"
      ],
      "metadata": {
        "id": "U_n73nVDHQAr"
      }
    },
    {
      "cell_type": "code",
      "source": [
        "tensor*tensor"
      ],
      "metadata": {
        "colab": {
          "base_uri": "https://localhost:8080/"
        },
        "id": "CM6NN49KHFjm",
        "outputId": "47a226ba-e5ed-4d07-f442-954496b9d86c"
      },
      "execution_count": null,
      "outputs": [
        {
          "output_type": "execute_result",
          "data": {
            "text/plain": [
              "<tf.Tensor: shape=(2, 2, 3), dtype=float32, numpy=\n",
              "array([[[  0.,   1.,   4.],\n",
              "        [  9.,  16.,  25.]],\n",
              "\n",
              "       [[ 36.,  49.,  64.],\n",
              "        [ 81., 100., 121.]]], dtype=float32)>"
            ]
          },
          "metadata": {},
          "execution_count": 34
        }
      ]
    },
    {
      "cell_type": "code",
      "source": [
        "tensor-tensor"
      ],
      "metadata": {
        "colab": {
          "base_uri": "https://localhost:8080/"
        },
        "id": "OV0hu7S-HnyE",
        "outputId": "f3925cbc-f2f6-4810-cf19-9c94c1c96926"
      },
      "execution_count": null,
      "outputs": [
        {
          "output_type": "execute_result",
          "data": {
            "text/plain": [
              "<tf.Tensor: shape=(2, 2, 3), dtype=float32, numpy=\n",
              "array([[[0., 0., 0.],\n",
              "        [0., 0., 0.]],\n",
              "\n",
              "       [[0., 0., 0.],\n",
              "        [0., 0., 0.]]], dtype=float32)>"
            ]
          },
          "metadata": {},
          "execution_count": 35
        }
      ]
    },
    {
      "cell_type": "markdown",
      "source": [
        "**Broadcasting**\n",
        "\n",
        "--> Element-wise tensor operations support broadcasting in the same way that numpy arrays do.\n",
        "\n",
        "---> The simplest eg is that of multiplying a tensor by a scalar"
      ],
      "metadata": {
        "id": "godl6Jx0HtEM"
      }
    },
    {
      "cell_type": "code",
      "source": [
        "tensor4=tensor*4\n",
        "tensor4"
      ],
      "metadata": {
        "colab": {
          "base_uri": "https://localhost:8080/"
        },
        "id": "eEpz6FKOHqz-",
        "outputId": "0740c50d-dfc7-4c10-e21c-8e5073cdb20a"
      },
      "execution_count": null,
      "outputs": [
        {
          "output_type": "execute_result",
          "data": {
            "text/plain": [
              "<tf.Tensor: shape=(2, 2, 3), dtype=float32, numpy=\n",
              "array([[[ 0.,  4.,  8.],\n",
              "        [12., 16., 20.]],\n",
              "\n",
              "       [[24., 28., 32.],\n",
              "        [36., 40., 44.]]], dtype=float32)>"
            ]
          },
          "metadata": {},
          "execution_count": 36
        }
      ]
    },
    {
      "cell_type": "markdown",
      "source": [
        "Transpose Matrix Multiplication"
      ],
      "metadata": {
        "id": "iPxYVnJhIA-w"
      }
    },
    {
      "cell_type": "code",
      "source": [
        "matrix_u = tf.constant([[3,4,3]])\n",
        "matrix_v = tf.constant([[1,2,1]])\n",
        "tf.matmul(matrix_u, tf.transpose(a=matrix_v))"
      ],
      "metadata": {
        "colab": {
          "base_uri": "https://localhost:8080/"
        },
        "id": "aoyON6uRH_V-",
        "outputId": "125578af-8295-40f1-a81f-40858b59d256"
      },
      "execution_count": null,
      "outputs": [
        {
          "output_type": "execute_result",
          "data": {
            "text/plain": [
              "<tf.Tensor: shape=(1, 1), dtype=int32, numpy=array([[14]], dtype=int32)>"
            ]
          },
          "metadata": {},
          "execution_count": 37
        }
      ]
    },
    {
      "cell_type": "code",
      "source": [
        "matrix_u"
      ],
      "metadata": {
        "colab": {
          "base_uri": "https://localhost:8080/"
        },
        "id": "bEnYn-3BJxE3",
        "outputId": "77b8b1de-9f2c-4f88-ddb9-cf3358deb304"
      },
      "execution_count": null,
      "outputs": [
        {
          "output_type": "execute_result",
          "data": {
            "text/plain": [
              "<tf.Tensor: shape=(1, 3), dtype=int32, numpy=array([[3, 4, 3]], dtype=int32)>"
            ]
          },
          "metadata": {},
          "execution_count": 38
        }
      ]
    },
    {
      "cell_type": "code",
      "source": [
        "matrix_v"
      ],
      "metadata": {
        "colab": {
          "base_uri": "https://localhost:8080/"
        },
        "id": "uPWGllfxJzbG",
        "outputId": "714c2d43-781f-41b7-edee-561f0ad713ee"
      },
      "execution_count": null,
      "outputs": [
        {
          "output_type": "execute_result",
          "data": {
            "text/plain": [
              "<tf.Tensor: shape=(1, 3), dtype=int32, numpy=array([[1, 2, 1]], dtype=int32)>"
            ]
          },
          "metadata": {},
          "execution_count": 39
        }
      ]
    },
    {
      "cell_type": "markdown",
      "source": [
        "Casting a tensor to another(tensor) datatype"
      ],
      "metadata": {
        "id": "wUTb7ZcLITKf"
      }
    },
    {
      "cell_type": "code",
      "source": [
        "i = tf.cast(tensor1, dtype=tf.int32)\n",
        "i"
      ],
      "metadata": {
        "colab": {
          "base_uri": "https://localhost:8080/"
        },
        "id": "joTvIyMBIQf7",
        "outputId": "120ffaef-f74c-4095-ff44-5bf9fcfd74f0"
      },
      "execution_count": null,
      "outputs": [
        {
          "output_type": "execute_result",
          "data": {
            "text/plain": [
              "<tf.Tensor: shape=(2, 6), dtype=int32, numpy=\n",
              "array([[ 0,  1,  2,  3,  4,  5],\n",
              "       [ 6,  7,  8,  9, 10, 11]], dtype=int32)>"
            ]
          },
          "metadata": {},
          "execution_count": 40
        }
      ]
    },
    {
      "cell_type": "code",
      "source": [
        "tensor2 = tf.reshape(tensor,[1,12])\n",
        "tensor2 =tf.cast(tensor2,dtype=tf.int32)\n",
        "tensor2"
      ],
      "metadata": {
        "colab": {
          "base_uri": "https://localhost:8080/"
        },
        "id": "iJlBsrtgKA_c",
        "outputId": "0f4e22f8-9c08-42fb-f6aa-0b7eed5b5dd2"
      },
      "execution_count": null,
      "outputs": [
        {
          "output_type": "execute_result",
          "data": {
            "text/plain": [
              "<tf.Tensor: shape=(1, 12), dtype=int32, numpy=array([[ 0,  1,  2,  3,  4,  5,  6,  7,  8,  9, 10, 11]], dtype=int32)>"
            ]
          },
          "metadata": {},
          "execution_count": 41
        }
      ]
    },
    {
      "cell_type": "code",
      "source": [
        "#with truncation\n",
        "j= tf.cast(tf.constant(4.9),dtype=tf.int32)\n",
        "j"
      ],
      "metadata": {
        "colab": {
          "base_uri": "https://localhost:8080/"
        },
        "id": "QnlOhrslKNVJ",
        "outputId": "f658e723-09b5-44ea-a72b-34fa6427054e"
      },
      "execution_count": null,
      "outputs": [
        {
          "output_type": "execute_result",
          "data": {
            "text/plain": [
              "<tf.Tensor: shape=(), dtype=int32, numpy=4>"
            ]
          },
          "metadata": {},
          "execution_count": 42
        }
      ]
    },
    {
      "cell_type": "markdown",
      "source": [
        "Declaring ragged tensors\n",
        "\n",
        "---> a ragged tensor is a tensor with one or more ragged dimensions. Ragged dimensions are dimensions that have slices that may have different lengths. There are a variety of methods for declaring ragged arrays, the simplest being a constant ragged array.\n",
        "\n",
        "---> Unlike regular tensors, where all dimensions have fixed sizes, ragged tensors allow inner dimensions to have different lengths, essentially accommodating irregular or varying lengths within the same tensor."
      ],
      "metadata": {
        "id": "qzt3sIGVK7hs"
      }
    },
    {
      "cell_type": "code",
      "source": [
        "ragged= tf.ragged.constant([[5,2,6,1],[],[4,10,7],[8],[6,7]])\n",
        "\n",
        "print(ragged)\n",
        "print(ragged[0,:]) #first element array\n",
        "print(ragged[1,:])\n",
        "print(ragged[2,:])\n",
        "print(ragged[3,:])\n",
        "print(ragged[4,:])"
      ],
      "metadata": {
        "colab": {
          "base_uri": "https://localhost:8080/"
        },
        "id": "w-MmpgsuK5I4",
        "outputId": "39ca03da-fa2b-4741-fda4-0449e6057163"
      },
      "execution_count": null,
      "outputs": [
        {
          "output_type": "stream",
          "name": "stdout",
          "text": [
            "<tf.RaggedTensor [[5, 2, 6, 1], [], [4, 10, 7], [8], [6, 7]]>\n",
            "tf.Tensor([5 2 6 1], shape=(4,), dtype=int32)\n",
            "tf.Tensor([], shape=(0,), dtype=int32)\n",
            "tf.Tensor([ 4 10  7], shape=(3,), dtype=int32)\n",
            "tf.Tensor([8], shape=(1,), dtype=int32)\n",
            "tf.Tensor([6 7], shape=(2,), dtype=int32)\n"
          ]
        }
      ]
    },
    {
      "cell_type": "markdown",
      "source": [
        "Filling the sqaured diff b/w two tensors"
      ],
      "metadata": {
        "id": "judMRaIoMEDA"
      }
    },
    {
      "cell_type": "code",
      "source": [
        "varx=[1,3,5,7,11]\n",
        "vary=5\n",
        "varz=tf.math.squared_difference(varx,vary)\n",
        "varz.numpy()\n",
        "\n",
        "# (1-5)^2, (3-5)^2..."
      ],
      "metadata": {
        "colab": {
          "base_uri": "https://localhost:8080/"
        },
        "id": "3hmxEmvIL9NW",
        "outputId": "c978b10b-49a6-4513-ca1b-8e8b6898db51"
      },
      "execution_count": null,
      "outputs": [
        {
          "output_type": "execute_result",
          "data": {
            "text/plain": [
              "array([16,  4,  0,  4, 36], dtype=int32)"
            ]
          },
          "metadata": {},
          "execution_count": 44
        }
      ]
    },
    {
      "cell_type": "markdown",
      "source": [
        "Finding mean\n",
        "\n",
        "\n",
        "---> tf.reduce_mean(input_tensor, axis=None, keepdims=None,name=None)"
      ],
      "metadata": {
        "id": "37XbLMHnMm39"
      }
    },
    {
      "cell_type": "code",
      "source": [
        "numbers= tf.constant([[4.,5.],[7.,3.]])"
      ],
      "metadata": {
        "id": "6Hj6rw7D8DYD"
      },
      "execution_count": null,
      "outputs": []
    },
    {
      "cell_type": "code",
      "source": [
        "#find mean across all axes\n",
        "tf.reduce_mean(input_tensor=numbers)\n",
        "\n",
        "# (4.+ 5.+ 7. + 3.)/4 = 4.75"
      ],
      "metadata": {
        "colab": {
          "base_uri": "https://localhost:8080/"
        },
        "id": "h4NXsFgs8P6S",
        "outputId": "26b083f2-3a1d-4415-c708-bf7136fa09c4"
      },
      "execution_count": null,
      "outputs": [
        {
          "output_type": "execute_result",
          "data": {
            "text/plain": [
              "<tf.Tensor: shape=(), dtype=float32, numpy=4.75>"
            ]
          },
          "metadata": {},
          "execution_count": 48
        }
      ]
    },
    {
      "cell_type": "code",
      "source": [
        "#find mean across all cols (axis=0)\n",
        "tf.reduce_mean(input_tensor=numbers, axis=0)\n",
        "\n",
        "#[ (4. + 5.)/2 , (7.+ 3.)/2 ]"
      ],
      "metadata": {
        "colab": {
          "base_uri": "https://localhost:8080/"
        },
        "id": "zI2XSfSv8erG",
        "outputId": "441e44f6-e577-479a-bfeb-3be688dd98dd"
      },
      "execution_count": null,
      "outputs": [
        {
          "output_type": "execute_result",
          "data": {
            "text/plain": [
              "<tf.Tensor: shape=(2,), dtype=float32, numpy=array([5.5, 4. ], dtype=float32)>"
            ]
          },
          "metadata": {},
          "execution_count": 50
        }
      ]
    },
    {
      "cell_type": "code",
      "source": [
        "# rows\n",
        "\n",
        "tf.reduce_mean(input_tensor=numbers, axis=1)"
      ],
      "metadata": {
        "colab": {
          "base_uri": "https://localhost:8080/"
        },
        "id": "ZnF7Zy-Z9Sty",
        "outputId": "724059d5-7cfc-4489-8694-abba150a0db7"
      },
      "execution_count": null,
      "outputs": [
        {
          "output_type": "execute_result",
          "data": {
            "text/plain": [
              "<tf.Tensor: shape=(2,), dtype=float32, numpy=array([4.5, 5. ], dtype=float32)>"
            ]
          },
          "metadata": {},
          "execution_count": 52
        }
      ]
    },
    {
      "cell_type": "code",
      "source": [
        "#when keepdims is true, the reduced axis is retained with a length of 1\n",
        "\n",
        "tf.reduce_mean(input_tensor=numbers, axis=0, keepdims=True) #original jo shape hai vhi rhegi"
      ],
      "metadata": {
        "colab": {
          "base_uri": "https://localhost:8080/"
        },
        "id": "HQezWj3W8vjH",
        "outputId": "f1b76523-d120-4cdd-b47e-d7116f9fe2a6"
      },
      "execution_count": null,
      "outputs": [
        {
          "output_type": "execute_result",
          "data": {
            "text/plain": [
              "<tf.Tensor: shape=(1, 2), dtype=float32, numpy=array([[5.5, 4. ]], dtype=float32)>"
            ]
          },
          "metadata": {},
          "execution_count": 51
        }
      ]
    },
    {
      "cell_type": "markdown",
      "source": [
        "**Generating tensors filled with random values**\\\n",
        "\n",
        "\n",
        "\n",
        "\n",
        "*   using tf.random.normal(shape,mean=0,dtype=tf.float32,seed=None,name=None)  ---> normal dist.\n",
        "\n",
        "*   tf.random.uniform(shape, minval=0,maxval=None,dtype=tf.fload32, seed=None, name=None) ---> uniform dist.\n",
        "\n"
      ],
      "metadata": {
        "id": "dVjh36y49p1_"
      }
    },
    {
      "cell_type": "code",
      "source": [
        "ran = tf.random.normal(shape=(3,2),mean=10.0,stddev=2.0)\n",
        "print(ran)"
      ],
      "metadata": {
        "colab": {
          "base_uri": "https://localhost:8080/"
        },
        "id": "28Mh6XhW9KGx",
        "outputId": "8769e55e-3e1b-4122-fc78-7ba6e26a2c2c"
      },
      "execution_count": null,
      "outputs": [
        {
          "output_type": "stream",
          "name": "stdout",
          "text": [
            "tf.Tensor(\n",
            "[[ 9.022332  11.82684  ]\n",
            " [ 6.536682   9.0460205]\n",
            " [ 8.5479765  9.89463  ]], shape=(3, 2), dtype=float32)\n"
          ]
        }
      ]
    },
    {
      "cell_type": "code",
      "source": [
        "tf.random.uniform(shape=(2,4), minval=0,maxval=None,dtype=tf.float32, seed=None, name=None)"
      ],
      "metadata": {
        "colab": {
          "base_uri": "https://localhost:8080/"
        },
        "id": "lwfgfx_J-dl4",
        "outputId": "96e6c876-9803-4811-c6f9-51728d13a185"
      },
      "execution_count": null,
      "outputs": [
        {
          "output_type": "execute_result",
          "data": {
            "text/plain": [
              "<tf.Tensor: shape=(2, 4), dtype=float32, numpy=\n",
              "array([[0.00302923, 0.272341  , 0.97259986, 0.84306777],\n",
              "       [0.03220475, 0.22341323, 0.5906687 , 0.21297681]], dtype=float32)>"
            ]
          },
          "metadata": {},
          "execution_count": 57
        }
      ]
    },
    {
      "cell_type": "markdown",
      "source": [
        "Setting the seed"
      ],
      "metadata": {
        "id": "I-8Ri_OX-z5V"
      }
    },
    {
      "cell_type": "code",
      "source": [
        "tf.random.set_seed(11)\n",
        "ran1= tf.random.uniform(shape= (2,2),maxval=10,dtype=tf.int32)\n",
        "ran2 = tf.random.uniform(shape = (2,2),maxval=10,dtype=tf.int32)\n",
        "print(ran1) #first call\n",
        "print(ran2)"
      ],
      "metadata": {
        "colab": {
          "base_uri": "https://localhost:8080/"
        },
        "id": "QCe1qVzP-qQ-",
        "outputId": "1cae95e4-f5ab-4fa3-f2ab-a6e10da11c94"
      },
      "execution_count": null,
      "outputs": [
        {
          "output_type": "stream",
          "name": "stdout",
          "text": [
            "tf.Tensor(\n",
            "[[4 6]\n",
            " [5 2]], shape=(2, 2), dtype=int32)\n",
            "tf.Tensor(\n",
            "[[9 7]\n",
            " [9 4]], shape=(2, 2), dtype=int32)\n"
          ]
        }
      ]
    },
    {
      "cell_type": "code",
      "source": [
        "tf.random.set_seed(11)\n",
        "ran1= tf.random.uniform(shape= (2,2),maxval=10,dtype=tf.int32)\n",
        "ran2 = tf.random.uniform(shape = (2,2),maxval=10,dtype=tf.int32)\n",
        "print(ran1) #second call\n",
        "print(ran2)"
      ],
      "metadata": {
        "colab": {
          "base_uri": "https://localhost:8080/"
        },
        "id": "p_Mjc24s_IcF",
        "outputId": "889a9a94-73d6-4ed5-bd03-b26296b12c38"
      },
      "execution_count": null,
      "outputs": [
        {
          "output_type": "stream",
          "name": "stdout",
          "text": [
            "tf.Tensor(\n",
            "[[4 6]\n",
            " [5 2]], shape=(2, 2), dtype=int32)\n",
            "tf.Tensor(\n",
            "[[9 7]\n",
            " [9 4]], shape=(2, 2), dtype=int32)\n"
          ]
        }
      ]
    },
    {
      "cell_type": "markdown",
      "source": [
        "The values are same because the seed has been set"
      ],
      "metadata": {
        "id": "70TkuSTB_SbV"
      }
    },
    {
      "cell_type": "markdown",
      "source": [
        "Example of random values using dices"
      ],
      "metadata": {
        "id": "h_jfvUHkADA_"
      }
    },
    {
      "cell_type": "code",
      "source": [
        "dice1 = tf.Variable(tf.random.uniform([10,1],minval=1,maxval=7,dtype=tf.int32))\n",
        "dice2 = tf.Variable(tf.random.uniform([10,1],minval=1,maxval=7,dtype=tf.int32))\n",
        "dice_sum = dice1 + dice2\n",
        "\n",
        "resulting_matrix= tf.concat(values=[dice1,dice2,dice_sum],axis=1)\n",
        "print(resulting_matrix)"
      ],
      "metadata": {
        "colab": {
          "base_uri": "https://localhost:8080/"
        },
        "id": "Eulv5fpA_RQ3",
        "outputId": "d744e310-31bb-4e3d-d6f7-f340df64a04d"
      },
      "execution_count": null,
      "outputs": [
        {
          "output_type": "stream",
          "name": "stdout",
          "text": [
            "tf.Tensor(\n",
            "[[ 5  5 10]\n",
            " [ 4  3  7]\n",
            " [ 5  3  8]\n",
            " [ 3  3  6]\n",
            " [ 1  4  5]\n",
            " [ 4  1  5]\n",
            " [ 5  1  6]\n",
            " [ 6  4 10]\n",
            " [ 3  3  6]\n",
            " [ 2  3  5]], shape=(10, 3), dtype=int32)\n"
          ]
        }
      ]
    },
    {
      "cell_type": "markdown",
      "source": [
        "Find indices of a largest and smallest element"
      ],
      "metadata": {
        "id": "BHOlnXImAkfQ"
      }
    },
    {
      "cell_type": "code",
      "source": [
        "t5 = tf.constant([2,11,5,42,7,19,-6,-11,29])\n",
        "print(t5)\n",
        "\n",
        "i = tf.argmax(input=t5)\n",
        "print('index of max: ', i)\n",
        "print(\"max element: \", t5[i].numpy())\n",
        "\n",
        "i = tf.argmin(input=t5,axis=0).numpy()\n",
        "print('index of min: ', i)\n",
        "print(\"min element: \", t5[i].numpy())\n",
        "\n",
        "t6= tf.reshape(t5, [3,3])\n",
        "print(t6)\n",
        "\n",
        "i=tf.argmax(input=t6,axis=0).numpy()\n",
        "print(\"indices of max down rows: \", i)\n",
        "\n",
        "i=tf.argmin(input=t6,axis=0).numpy()\n",
        "print(\"indices of min down rows: \", i)"
      ],
      "metadata": {
        "colab": {
          "base_uri": "https://localhost:8080/"
        },
        "id": "pmhjPhYOAd5n",
        "outputId": "bb4b57a1-fd3b-4cce-dfb0-9a6be3e8348b"
      },
      "execution_count": null,
      "outputs": [
        {
          "output_type": "stream",
          "name": "stdout",
          "text": [
            "tf.Tensor([  2  11   5  42   7  19  -6 -11  29], shape=(9,), dtype=int32)\n",
            "index of max:  tf.Tensor(3, shape=(), dtype=int64)\n",
            "max element:  42\n",
            "index of min:  7\n",
            "min element:  -11\n",
            "tf.Tensor(\n",
            "[[  2  11   5]\n",
            " [ 42   7  19]\n",
            " [ -6 -11  29]], shape=(3, 3), dtype=int32)\n",
            "indices of max down rows:  [1 0 2]\n",
            "indices of min down rows:  [2 2 0]\n"
          ]
        }
      ]
    },
    {
      "cell_type": "code",
      "source": [
        "i=tf.argmax(input=t6,axis=1).numpy()\n",
        "print(\"indices of max down cols: \", i)\n",
        "\n",
        "i=tf.argmin(input=t6,axis=1).numpy()\n",
        "print(\"indices of min down cols: \", i)"
      ],
      "metadata": {
        "colab": {
          "base_uri": "https://localhost:8080/"
        },
        "id": "qZVVQL5EBA6e",
        "outputId": "01f7e95e-dbcf-45d4-fc85-f23d4c5de236"
      },
      "execution_count": null,
      "outputs": [
        {
          "output_type": "stream",
          "name": "stdout",
          "text": [
            "indices of max down cols:  [1 0 2]\n",
            "indices of min down cols:  [0 1 1]\n"
          ]
        }
      ]
    },
    {
      "cell_type": "markdown",
      "source": [
        "Saving and restoring tensor values using a checkpoint"
      ],
      "metadata": {
        "id": "XNES0EO2DGHz"
      }
    },
    {
      "cell_type": "code",
      "source": [
        "variable = tf.Variable([[1,3,5,7],[11,13,17,19]])\n",
        "checkpoint = tf.train.Checkpoint(var=variable)\n",
        "save_path = checkpoint.save('./vars')\n",
        "variable.assign([[0,0,0,0],[0,0,0,0]])\n",
        "variable\n",
        "checkpoint.restore(save_path)\n",
        "print(variable)\n"
      ],
      "metadata": {
        "colab": {
          "base_uri": "https://localhost:8080/"
        },
        "id": "AWAU42exCQkr",
        "outputId": "66183367-248b-4861-f463-4562329c366a"
      },
      "execution_count": null,
      "outputs": [
        {
          "output_type": "stream",
          "name": "stdout",
          "text": [
            "<tf.Variable 'Variable:0' shape=(2, 4) dtype=int32, numpy=\n",
            "array([[ 1,  3,  5,  7],\n",
            "       [11, 13, 17, 19]], dtype=int32)>\n"
          ]
        }
      ]
    },
    {
      "cell_type": "markdown",
      "source": [
        "Using tf.function\n",
        "\n",
        "--> It will take a python func and return a tensorflow graph. The advantage of this is that graphs can apply optimizations and exploit parallelism in the python func."
      ],
      "metadata": {
        "id": "1EpMzh6KD0fV"
      }
    },
    {
      "cell_type": "code",
      "source": [
        "def f1(x,y):\n",
        "  return tf.reduce_mean(input_tensor=tf.multiply(x ** 2, 5) + y**2)\n",
        "\n",
        "f2 = tf.function(f1) #convert in tensorflow graph\n",
        "x=tf.constant([4., -5.])\n",
        "y= tf.constant([2.,3.])\n",
        "\n",
        "assert f1(x,y).numpy()== f2(x,y).numpy()\n"
      ],
      "metadata": {
        "id": "c6FA4YVzDjTR"
      },
      "execution_count": null,
      "outputs": []
    },
    {
      "cell_type": "markdown",
      "source": [
        "Calculate gradient ----> gradient tape\n",
        "\n",
        "--> it can automatically track the gradient of any variable.\n",
        "\n",
        "--> enables automatic differentiation and gradient computation for training neural networks through backpropagation"
      ],
      "metadata": {
        "id": "ieWu05P4EfXw"
      }
    },
    {
      "cell_type": "code",
      "source": [
        "a=tf.random.normal(shape=(2,2))\n",
        "b=tf.random.normal(shape=(2,2))\n",
        "\n",
        "with tf.GradientTape() as tape:\n",
        "  tape.watch(a)\n",
        "  c=tf.sqrt(tf.square(a)+tf.square(b))\n",
        "  dc_da=tape.gradient(c,a)\n",
        "  print(dc_da)"
      ],
      "metadata": {
        "colab": {
          "base_uri": "https://localhost:8080/"
        },
        "id": "OEVKl-f-Eao0",
        "outputId": "3b3dff8c-ed4f-41ad-f342-570f71a32cd9"
      },
      "execution_count": null,
      "outputs": [
        {
          "output_type": "stream",
          "name": "stdout",
          "text": [
            "tf.Tensor(\n",
            "[[-0.469929    0.89920384]\n",
            " [-0.66446555 -0.7976701 ]], shape=(2, 2), dtype=float32)\n"
          ]
        }
      ]
    },
    {
      "cell_type": "code",
      "source": [
        "# if we have a variable, we dont need to use tape.watch\n",
        "a=tf.Variable(a)\n",
        "with tf.GradientTape() as Tape:\n",
        "  c=tf.sqrt(tf.square(a)+ tf.square(b))\n",
        "  dc_da= Tape.gradient(c,a) #differentiate wrt a\n",
        "  print(dc_da)"
      ],
      "metadata": {
        "colab": {
          "base_uri": "https://localhost:8080/"
        },
        "id": "MBbvQH67FDPr",
        "outputId": "10463698-b071-4985-d0a4-6ed25a1d3874"
      },
      "execution_count": null,
      "outputs": [
        {
          "output_type": "stream",
          "name": "stdout",
          "text": [
            "tf.Tensor(\n",
            "[[-0.469929    0.89920384]\n",
            " [-0.66446555 -0.7976701 ]], shape=(2, 2), dtype=float32)\n"
          ]
        }
      ]
    },
    {
      "cell_type": "code",
      "source": [
        "with tf.GradientTape() as outer_tape:\n",
        "  with tf.GradientTape() as Tape:\n",
        "    c=tf.sqrt(tf.square(a)+ tf.square(b))\n",
        "    dc_da= Tape.gradient(c,a) #differentiate wrt a\n",
        "  d2c_d2a=outer_tape.gradient(dc_da,a) #double derivative\n",
        "  print(d2c_d2a)"
      ],
      "metadata": {
        "colab": {
          "base_uri": "https://localhost:8080/"
        },
        "id": "x5oKCDmiFt3b",
        "outputId": "f79a7c9c-c1d5-4178-9792-0ac6c99222c4"
      },
      "execution_count": null,
      "outputs": [
        {
          "output_type": "stream",
          "name": "stdout",
          "text": [
            "tf.Tensor(\n",
            "[[0.4264985  0.6867533 ]\n",
            " [0.44663432 0.50159544]], shape=(2, 2), dtype=float32)\n"
          ]
        }
      ]
    },
    {
      "cell_type": "code",
      "source": [],
      "metadata": {
        "id": "bPBw9GBbGJ3M"
      },
      "execution_count": null,
      "outputs": []
    }
  ]
}