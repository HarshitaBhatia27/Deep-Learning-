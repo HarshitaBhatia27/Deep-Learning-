{
  "nbformat": 4,
  "nbformat_minor": 0,
  "metadata": {
    "colab": {
      "provenance": [],
      "gpuType": "T4",
      "authorship_tag": "ABX9TyOPpLQ1uEaw5am6Ncp20U8d",
      "include_colab_link": true
    },
    "kernelspec": {
      "name": "python3",
      "display_name": "Python 3"
    },
    "language_info": {
      "name": "python"
    },
    "accelerator": "GPU"
  },
  "cells": [
    {
      "cell_type": "markdown",
      "metadata": {
        "id": "view-in-github",
        "colab_type": "text"
      },
      "source": [
        "<a href=\"https://colab.research.google.com/github/HarshitaBhatia27/Deep-Learning-/blob/main/Neural_N_W_using_Pytorch.ipynb\" target=\"_parent\"><img src=\"https://colab.research.google.com/assets/colab-badge.svg\" alt=\"Open In Colab\"/></a>"
      ]
    },
    {
      "cell_type": "code",
      "source": [
        "import torch\n",
        "from torch import nn\n",
        "from torch.utils.data import DataLoader\n",
        "from torchvision import datasets\n",
        "from torchvision.transforms import ToTensor, Lambda,Compose\n",
        "import matplotlib.pyplot as plt"
      ],
      "metadata": {
        "id": "Gi1301IschV6"
      },
      "execution_count": null,
      "outputs": []
    },
    {
      "cell_type": "code",
      "source": [
        "training_data= datasets.FashionMNIST(\n",
        "    root=\"data\",\n",
        "    train=True,\n",
        "    download=True,\n",
        "    transform=ToTensor(),\n",
        ")\n",
        "\n",
        "test_data=datasets.FashionMNIST(\n",
        "    root=\"data\",\n",
        "    train=False,\n",
        "    download=True,\n",
        "    transform=ToTensor(),\n",
        ")"
      ],
      "metadata": {
        "id": "UJouArfqdBMB"
      },
      "execution_count": null,
      "outputs": []
    },
    {
      "cell_type": "code",
      "source": [
        "type(training_data)"
      ],
      "metadata": {
        "colab": {
          "base_uri": "https://localhost:8080/"
        },
        "id": "jZuDCdN_dYRn",
        "outputId": "15c8ed8e-09e6-42c2-ea2c-2d4712740c32"
      },
      "execution_count": null,
      "outputs": [
        {
          "output_type": "execute_result",
          "data": {
            "text/plain": [
              "torchvision.datasets.mnist.FashionMNIST"
            ]
          },
          "metadata": {},
          "execution_count": 3
        }
      ]
    },
    {
      "cell_type": "code",
      "source": [
        "batch_size=64\n",
        "\n",
        "train_dataloader=DataLoader(training_data,batch_size=batch_size)\n",
        "test_dataloader=DataLoader(test_data,batch_size=batch_size)\n",
        "\n",
        "for x,y in test_dataloader:\n",
        "  print(\"Shape of X [N,C,H,W]: \",x.shape)\n",
        "  print(\"Shape of y: \", y.dtype)\n",
        "  break"
      ],
      "metadata": {
        "colab": {
          "base_uri": "https://localhost:8080/"
        },
        "id": "njZti6btqcmi",
        "outputId": "8065574f-50ad-413e-e3f7-9f77be3dda94"
      },
      "execution_count": null,
      "outputs": [
        {
          "output_type": "stream",
          "name": "stdout",
          "text": [
            "Shape of X [N,C,H,W]:  torch.Size([64, 1, 28, 28])\n",
            "Shape of y:  torch.int64\n"
          ]
        }
      ]
    },
    {
      "cell_type": "code",
      "source": [
        "device= \"cuda\" if torch.cuda.is_available() else \"cpu\"\n",
        "print(f\"Using {device} device\")"
      ],
      "metadata": {
        "colab": {
          "base_uri": "https://localhost:8080/"
        },
        "id": "hDfmrqSdqx3x",
        "outputId": "0b3a6f28-2a99-417a-b32a-971e7e503eab"
      },
      "execution_count": null,
      "outputs": [
        {
          "output_type": "stream",
          "name": "stdout",
          "text": [
            "Using cuda device\n"
          ]
        }
      ]
    },
    {
      "cell_type": "code",
      "source": [
        "#Define model\n",
        "class NeuralNetwork(nn.Module):\n",
        "  def __init__(self):\n",
        "    super(NeuralNetwork, self).__init__()\n",
        "    self.flatten = nn.Flatten()\n",
        "    self.linear_relu_stack = nn.Sequential(     #initializing required parameters\n",
        "        nn.Linear(28*28,512),\n",
        "        nn.ReLU(),\n",
        "        nn.Linear(512,512),\n",
        "        nn.ReLU(),\n",
        "        nn.Linear(512,10)\n",
        "    )\n",
        "  def forward(self,x):\n",
        "    x= self.flatten(x)\n",
        "    logits = self.linear_relu_stack(x)\n",
        "    return logits\n",
        "\n",
        "\n",
        "model= NeuralNetwork().to(device)\n",
        "print(model)"
      ],
      "metadata": {
        "colab": {
          "base_uri": "https://localhost:8080/"
        },
        "id": "DoBPVdP7rKSG",
        "outputId": "d6808161-f0a3-49e8-8037-3c992688ca83"
      },
      "execution_count": null,
      "outputs": [
        {
          "output_type": "stream",
          "name": "stdout",
          "text": [
            "NeuralNetwork(\n",
            "  (flatten): Flatten(start_dim=1, end_dim=-1)\n",
            "  (linear_relu_stack): Sequential(\n",
            "    (0): Linear(in_features=784, out_features=512, bias=True)\n",
            "    (1): ReLU()\n",
            "    (2): Linear(in_features=512, out_features=512, bias=True)\n",
            "    (3): ReLU()\n",
            "    (4): Linear(in_features=512, out_features=10, bias=True)\n",
            "  )\n",
            ")\n"
          ]
        }
      ]
    },
    {
      "cell_type": "code",
      "source": [
        "loss_fn = nn.CrossEntropyLoss()\n",
        "optimizer = torch.optim.SGD(model.parameters(), lr= 1e-3)"
      ],
      "metadata": {
        "id": "PRx3zvhWr25v"
      },
      "execution_count": null,
      "outputs": []
    },
    {
      "cell_type": "code",
      "source": [
        "def train(dataloader,model,loss_fn,optimizer):\n",
        "  size = len(dataloader.dataset)\n",
        "  model.train()\n",
        "  for batch, (X,y) in enumerate(dataloader):\n",
        "    X,y = X.to(device), y.to(device)\n",
        "\n",
        "#compute pred error\n",
        "    pred=model(X)\n",
        "    loss=loss_fn(pred,y)\n",
        "\n",
        "\n",
        "    #backpropagation\n",
        "    optimizer.zero_grad()\n",
        "    loss.backward()\n",
        "    optimizer.step()\n",
        "\n",
        "    if batch % 100 ==0:\n",
        "      loss,current= loss.item(), batch* len(X)\n",
        "      print(f\"loss: {loss:>7f} [{current:>5d}/{size:>5d}]\")\n"
      ],
      "metadata": {
        "id": "sfpz3wrfsuoM"
      },
      "execution_count": null,
      "outputs": []
    },
    {
      "cell_type": "code",
      "source": [
        "from re import S\n",
        "def test(dataloader, model,loss_fn):\n",
        "  size=len(dataloader.dataset)\n",
        "  num_batches = len(dataloader)\n",
        "  model.eval()\n",
        "  test_loss,correct=0,0\n",
        "  with torch.no_grad():\n",
        "    for X,y in dataloader:\n",
        "      X,y = X.to(device), y.to(device)\n",
        "      pred=model(X)\n",
        "      test_loss +=loss_fn(pred,y).item()\n",
        "      correct += (pred.argmax(1)==y).type(torch.float).sum().item()\n",
        "  test_loss /= num_batches\n",
        "  correct /=size\n",
        "  print(f\"test Error: \\n Accuracy: {(100*correct):>0.1f}%, Avg loss: {test_loss:>8f} \\n\")"
      ],
      "metadata": {
        "id": "sgtoe0XptfO2"
      },
      "execution_count": null,
      "outputs": []
    },
    {
      "cell_type": "code",
      "source": [
        "epochs= 5\n",
        "for t in range(epochs):\n",
        "  print(f\"Epoch {t+1}\\n------------------------\")\n",
        "  train(train_dataloader,model,loss_fn,optimizer)\n",
        "  test(test_dataloader,model,loss_fn)\n",
        "print(\"Done!\")"
      ],
      "metadata": {
        "colab": {
          "base_uri": "https://localhost:8080/"
        },
        "id": "sC9pW-swuOAb",
        "outputId": "84db1f0f-45fc-411b-f82d-f376e40aa115"
      },
      "execution_count": null,
      "outputs": [
        {
          "output_type": "stream",
          "name": "stdout",
          "text": [
            "Epoch 1\n",
            "------------------------\n",
            "loss: 2.295277 [    0/60000]\n",
            "loss: 2.291167 [ 6400/60000]\n",
            "loss: 2.268976 [12800/60000]\n",
            "loss: 2.264192 [19200/60000]\n",
            "loss: 2.245068 [25600/60000]\n",
            "loss: 2.217705 [32000/60000]\n",
            "loss: 2.227641 [38400/60000]\n",
            "loss: 2.188094 [44800/60000]\n",
            "loss: 2.173462 [51200/60000]\n",
            "loss: 2.147216 [57600/60000]\n",
            "test Error: \n",
            " Accuracy: 52.1%, Avg loss: 2.136539 \n",
            "\n",
            "Epoch 2\n",
            "------------------------\n",
            "loss: 2.140092 [    0/60000]\n",
            "loss: 2.138929 [ 6400/60000]\n",
            "loss: 2.073135 [12800/60000]\n",
            "loss: 2.089347 [19200/60000]\n",
            "loss: 2.040411 [25600/60000]\n",
            "loss: 1.980618 [32000/60000]\n",
            "loss: 2.008875 [38400/60000]\n",
            "loss: 1.925804 [44800/60000]\n",
            "loss: 1.915500 [51200/60000]\n",
            "loss: 1.848373 [57600/60000]\n",
            "test Error: \n",
            " Accuracy: 61.0%, Avg loss: 1.844050 \n",
            "\n",
            "Epoch 3\n",
            "------------------------\n",
            "loss: 1.875993 [    0/60000]\n",
            "loss: 1.853450 [ 6400/60000]\n",
            "loss: 1.725934 [12800/60000]\n",
            "loss: 1.764314 [19200/60000]\n",
            "loss: 1.656548 [25600/60000]\n",
            "loss: 1.614288 [32000/60000]\n",
            "loss: 1.636853 [38400/60000]\n",
            "loss: 1.537608 [44800/60000]\n",
            "loss: 1.552260 [51200/60000]\n",
            "loss: 1.446267 [57600/60000]\n",
            "test Error: \n",
            " Accuracy: 61.5%, Avg loss: 1.465203 \n",
            "\n",
            "Epoch 4\n",
            "------------------------\n",
            "loss: 1.535309 [    0/60000]\n",
            "loss: 1.507936 [ 6400/60000]\n",
            "loss: 1.350581 [12800/60000]\n",
            "loss: 1.425883 [19200/60000]\n",
            "loss: 1.303841 [25600/60000]\n",
            "loss: 1.304223 [32000/60000]\n",
            "loss: 1.330541 [38400/60000]\n",
            "loss: 1.251351 [44800/60000]\n",
            "loss: 1.277987 [51200/60000]\n",
            "loss: 1.182586 [57600/60000]\n",
            "test Error: \n",
            " Accuracy: 63.6%, Avg loss: 1.208329 \n",
            "\n",
            "Epoch 5\n",
            "------------------------\n",
            "loss: 1.283104 [    0/60000]\n",
            "loss: 1.275408 [ 6400/60000]\n",
            "loss: 1.104408 [12800/60000]\n",
            "loss: 1.216325 [19200/60000]\n",
            "loss: 1.087219 [25600/60000]\n",
            "loss: 1.112630 [32000/60000]\n",
            "loss: 1.150362 [38400/60000]\n",
            "loss: 1.081198 [44800/60000]\n",
            "loss: 1.110196 [51200/60000]\n",
            "loss: 1.032465 [57600/60000]\n",
            "test Error: \n",
            " Accuracy: 65.1%, Avg loss: 1.053990 \n",
            "\n",
            "Done!\n"
          ]
        }
      ]
    },
    {
      "cell_type": "code",
      "source": [
        "torch.save(model.state_dict(),\"model.pth\")\n",
        "print(\"Saved Pytorch Model state to model.pth\")"
      ],
      "metadata": {
        "colab": {
          "base_uri": "https://localhost:8080/"
        },
        "id": "Geh5rD8oufwR",
        "outputId": "59e488e2-9c83-477c-e471-45f2ef79743e"
      },
      "execution_count": null,
      "outputs": [
        {
          "output_type": "stream",
          "name": "stdout",
          "text": [
            "Saved Pytorch Model state to model.pth\n"
          ]
        }
      ]
    },
    {
      "cell_type": "code",
      "source": [
        "#load model\n",
        "model= NeuralNetwork()\n",
        "model.load_state_dict(torch.load(\"model.pth\"))"
      ],
      "metadata": {
        "colab": {
          "base_uri": "https://localhost:8080/"
        },
        "id": "O-wrcaCevv7x",
        "outputId": "c76e5bcc-799f-4a71-e85c-724b7648614d"
      },
      "execution_count": null,
      "outputs": [
        {
          "output_type": "execute_result",
          "data": {
            "text/plain": [
              "<All keys matched successfully>"
            ]
          },
          "metadata": {},
          "execution_count": 12
        }
      ]
    },
    {
      "cell_type": "code",
      "source": [
        "#prediction\n",
        "classes=[\n",
        "    \"T-shirt/top\",\n",
        "    \"Trouser\",\n",
        "    \"Pullover\",\n",
        "    \"Dress\",\n",
        "    \"Coat\",\n",
        "    \"Sandal\",\n",
        "    \"Sneaker\",\n",
        "    \"Shirt\",\n",
        "    \"Bag\",\n",
        "    \"Ankle boot\",\n",
        "]\n",
        "model.eval()\n",
        "x,y = test_data[0][0],test_data[0][1]\n",
        "with torch.no_grad():\n",
        "  pred=model(x)\n",
        "  predicted, actual= classes[pred[0].argmax(0)],classes[y]\n",
        "  print(f'Predicted: \" {predicted}\", Actual: \"{actual}\"')"
      ],
      "metadata": {
        "colab": {
          "base_uri": "https://localhost:8080/"
        },
        "id": "K9OQvXunv3CQ",
        "outputId": "40a74670-c075-4fda-cebc-bf9d29999b26"
      },
      "execution_count": null,
      "outputs": [
        {
          "output_type": "stream",
          "name": "stdout",
          "text": [
            "Predicted: \" Ankle boot\", Actual: \"Ankle boot\"\n"
          ]
        }
      ]
    },
    {
      "cell_type": "code",
      "source": [],
      "metadata": {
        "id": "P3zqy0ujwnHA"
      },
      "execution_count": null,
      "outputs": []
    }
  ]
}