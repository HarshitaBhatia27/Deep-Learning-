{
  "nbformat": 4,
  "nbformat_minor": 0,
  "metadata": {
    "colab": {
      "provenance": [],
      "authorship_tag": "ABX9TyPwsXjVgwTW8MGTPEWPCnXd",
      "include_colab_link": true
    },
    "kernelspec": {
      "name": "python3",
      "display_name": "Python 3"
    },
    "language_info": {
      "name": "python"
    }
  },
  "cells": [
    {
      "cell_type": "markdown",
      "metadata": {
        "id": "view-in-github",
        "colab_type": "text"
      },
      "source": [
        "<a href=\"https://colab.research.google.com/github/HarshitaBhatia27/Deep-Learning-/blob/main/Batch_Normalization.ipynb\" target=\"_parent\"><img src=\"https://colab.research.google.com/assets/colab-badge.svg\" alt=\"Open In Colab\"/></a>"
      ]
    },
    {
      "cell_type": "code",
      "execution_count": null,
      "metadata": {
        "id": "Eg4UQJDgMXGE"
      },
      "outputs": [],
      "source": [
        "import os\n",
        "import tensorflow as tf\n",
        "import pandas as pd\n",
        "import numpy as np\n",
        "import matplotlib.pyplot as plt\n",
        "import seaborn as sns\n",
        "import time\n",
        "plt.style.use(\"fivethirtyeight\")\n",
        "%load_ext tensorboard"
      ]
    },
    {
      "cell_type": "code",
      "source": [
        "(X_train_full, y_train_full), (X_test,y_test)=tf.keras.datasets.fashion_mnist.load_data()\n",
        "X_train_full=X_train_full/255.0\n",
        "X_test=X_test/255.0\n",
        "X_valid,X_train=X_train_full[:5000],X_train_full[5000:]\n",
        "y_valid,y_train=y_train_full[:5000],y_train_full[5000:]"
      ],
      "metadata": {
        "colab": {
          "base_uri": "https://localhost:8080/"
        },
        "id": "9eBSN-95NWeu",
        "outputId": "5d87b2e5-b2f7-438c-f1fa-3af5644a6ce8"
      },
      "execution_count": null,
      "outputs": [
        {
          "output_type": "stream",
          "name": "stdout",
          "text": [
            "Downloading data from https://storage.googleapis.com/tensorflow/tf-keras-datasets/train-labels-idx1-ubyte.gz\n",
            "29515/29515 [==============================] - 0s 0us/step\n",
            "Downloading data from https://storage.googleapis.com/tensorflow/tf-keras-datasets/train-images-idx3-ubyte.gz\n",
            "26421880/26421880 [==============================] - 0s 0us/step\n",
            "Downloading data from https://storage.googleapis.com/tensorflow/tf-keras-datasets/t10k-labels-idx1-ubyte.gz\n",
            "5148/5148 [==============================] - 0s 0us/step\n",
            "Downloading data from https://storage.googleapis.com/tensorflow/tf-keras-datasets/t10k-images-idx3-ubyte.gz\n",
            "4422102/4422102 [==============================] - 0s 0us/step\n"
          ]
        }
      ]
    },
    {
      "cell_type": "code",
      "source": [
        "#creating layer of model\n",
        "tf.random.set_seed(42)\n",
        "np.random.seed(42) #for getting similar output\n",
        "\n",
        "Layers= [tf.keras.layers.Flatten(input_shape=[28,28]),\n",
        "         tf.keras.layers.Dense(300,kernel_initializer=\"he_normal\"),\n",
        "         tf.keras.layers.LeakyReLU(),\n",
        "         tf.keras.layers.Dense(100,kernel_initializer=\"he_normal\"),\n",
        "         tf.keras.layers.LeakyReLU(),\n",
        "         tf.keras.layers.Dense(10,activation=\"softmax\"),\n",
        "         ]\n",
        "\n",
        "model=tf.keras.models.Sequential(Layers)"
      ],
      "metadata": {
        "id": "wFg82FjaN75J"
      },
      "execution_count": null,
      "outputs": []
    },
    {
      "cell_type": "code",
      "source": [
        "#compiling model\n",
        "model.compile(loss=\"sparse_categorical_crossentropy\",\n",
        "              optimizer=tf.keras.optimizers.SGD(lr=1e-3),\n",
        "              metrics=[\"accuracy\"]\n",
        "              )"
      ],
      "metadata": {
        "colab": {
          "base_uri": "https://localhost:8080/"
        },
        "id": "UjL6MFVEOt6e",
        "outputId": "44f2a9d0-ab75-4e37-a323-7bd27bdebc67"
      },
      "execution_count": null,
      "outputs": [
        {
          "output_type": "stream",
          "name": "stderr",
          "text": [
            "WARNING:absl:`lr` is deprecated in Keras optimizer, please use `learning_rate` or use the legacy optimizer, e.g.,tf.keras.optimizers.legacy.SGD.\n"
          ]
        }
      ]
    },
    {
      "cell_type": "code",
      "source": [
        "model.summary()"
      ],
      "metadata": {
        "colab": {
          "base_uri": "https://localhost:8080/"
        },
        "id": "LOs8n11tPCwG",
        "outputId": "a17307fc-4a31-4629-a714-05f7ec07b4d3"
      },
      "execution_count": null,
      "outputs": [
        {
          "output_type": "stream",
          "name": "stdout",
          "text": [
            "Model: \"sequential\"\n",
            "_________________________________________________________________\n",
            " Layer (type)                Output Shape              Param #   \n",
            "=================================================================\n",
            " flatten (Flatten)           (None, 784)               0         \n",
            "                                                                 \n",
            " dense (Dense)               (None, 300)               235500    \n",
            "                                                                 \n",
            " leaky_re_lu (LeakyReLU)     (None, 300)               0         \n",
            "                                                                 \n",
            " dense_1 (Dense)             (None, 100)               30100     \n",
            "                                                                 \n",
            " leaky_re_lu_1 (LeakyReLU)   (None, 100)               0         \n",
            "                                                                 \n",
            " dense_2 (Dense)             (None, 10)                1010      \n",
            "                                                                 \n",
            "=================================================================\n",
            "Total params: 266,610\n",
            "Trainable params: 266,610\n",
            "Non-trainable params: 0\n",
            "_________________________________________________________________\n"
          ]
        }
      ]
    },
    {
      "cell_type": "code",
      "source": [
        "#training and calculating training time\n",
        "start=time.time()\n",
        "history=model.fit(X_train,y_train,epochs=10,validation_data=(X_valid,y_valid),verbose=2)\n",
        "\n",
        "#end time\n",
        "end=time.time()\n",
        "\n",
        "print(f\"Runtime of the program is {end-start} \")"
      ],
      "metadata": {
        "colab": {
          "base_uri": "https://localhost:8080/"
        },
        "id": "NuWOEzElPNoL",
        "outputId": "f91a0f46-d2ea-4084-c207-0ea35c1acf83"
      },
      "execution_count": null,
      "outputs": [
        {
          "output_type": "stream",
          "name": "stdout",
          "text": [
            "Epoch 1/10\n",
            "1719/1719 - 8s - loss: 0.6899 - accuracy: 0.7715 - val_loss: 0.5100 - val_accuracy: 0.8312 - 8s/epoch - 4ms/step\n",
            "Epoch 2/10\n",
            "1719/1719 - 5s - loss: 0.4877 - accuracy: 0.8282 - val_loss: 0.4369 - val_accuracy: 0.8532 - 5s/epoch - 3ms/step\n",
            "Epoch 3/10\n",
            "1719/1719 - 6s - loss: 0.4463 - accuracy: 0.8430 - val_loss: 0.5224 - val_accuracy: 0.8028 - 6s/epoch - 4ms/step\n",
            "Epoch 4/10\n",
            "1719/1719 - 5s - loss: 0.4226 - accuracy: 0.8517 - val_loss: 0.4088 - val_accuracy: 0.8620 - 5s/epoch - 3ms/step\n",
            "Epoch 5/10\n",
            "1719/1719 - 6s - loss: 0.4066 - accuracy: 0.8580 - val_loss: 0.3902 - val_accuracy: 0.8686 - 6s/epoch - 4ms/step\n",
            "Epoch 6/10\n",
            "1719/1719 - 5s - loss: 0.3900 - accuracy: 0.8625 - val_loss: 0.3875 - val_accuracy: 0.8684 - 5s/epoch - 3ms/step\n",
            "Epoch 7/10\n",
            "1719/1719 - 6s - loss: 0.3792 - accuracy: 0.8665 - val_loss: 0.3829 - val_accuracy: 0.8712 - 6s/epoch - 4ms/step\n",
            "Epoch 8/10\n",
            "1719/1719 - 5s - loss: 0.3691 - accuracy: 0.8694 - val_loss: 0.4044 - val_accuracy: 0.8552 - 5s/epoch - 3ms/step\n",
            "Epoch 9/10\n",
            "1719/1719 - 9s - loss: 0.3596 - accuracy: 0.8739 - val_loss: 0.3726 - val_accuracy: 0.8660 - 9s/epoch - 5ms/step\n",
            "Epoch 10/10\n",
            "1719/1719 - 5s - loss: 0.3516 - accuracy: 0.8757 - val_loss: 0.3686 - val_accuracy: 0.8698 - 5s/epoch - 3ms/step\n",
            "Runtime of the program is 62.89937424659729 \n"
          ]
        }
      ]
    },
    {
      "cell_type": "markdown",
      "source": [
        "\n",
        "\n",
        "*   Runtime of program before applying batch normalization is 63 seconds.\n",
        "\n",
        "*  Accuracy is 86%\n",
        "\n"
      ],
      "metadata": {
        "id": "gJ1kRIJvP-eK"
      }
    },
    {
      "cell_type": "markdown",
      "source": [
        "**BATCH NORMALIZATION**"
      ],
      "metadata": {
        "id": "WbzvuInXQF8W"
      }
    },
    {
      "cell_type": "code",
      "source": [
        "del model"
      ],
      "metadata": {
        "id": "e-RlmUdcPmx-"
      },
      "execution_count": null,
      "outputs": []
    },
    {
      "cell_type": "code",
      "source": [
        "Layers_BN=[tf.keras.layers.Flatten(input_shape=[28,28]),\n",
        "          tf.keras.layers.BatchNormalization(),\n",
        "         tf.keras.layers.Dense(300,activation=\"relu\"),\n",
        "         tf.keras.layers.BatchNormalization(),\n",
        "         tf.keras.layers.Dense(100,activation=\"relu\"),\n",
        "         tf.keras.layers.BatchNormalization(),\n",
        "         tf.keras.layers.Dense(10,activation=\"softmax\"),\n",
        "         ]\n",
        "model=tf.keras.models.Sequential(Layers_BN)"
      ],
      "metadata": {
        "id": "e-szMlAYQLE7"
      },
      "execution_count": null,
      "outputs": []
    },
    {
      "cell_type": "code",
      "source": [
        "model.summary()"
      ],
      "metadata": {
        "colab": {
          "base_uri": "https://localhost:8080/"
        },
        "id": "I312hsZTQkFU",
        "outputId": "1c8c6516-2a7b-43a8-c853-1aff97b6edcd"
      },
      "execution_count": null,
      "outputs": [
        {
          "output_type": "stream",
          "name": "stdout",
          "text": [
            "Model: \"sequential_3\"\n",
            "_________________________________________________________________\n",
            " Layer (type)                Output Shape              Param #   \n",
            "=================================================================\n",
            " flatten_3 (Flatten)         (None, 784)               0         \n",
            "                                                                 \n",
            " batch_normalization_6 (Batc  (None, 784)              3136      \n",
            " hNormalization)                                                 \n",
            "                                                                 \n",
            " dense_9 (Dense)             (None, 300)               235500    \n",
            "                                                                 \n",
            " batch_normalization_7 (Batc  (None, 300)              1200      \n",
            " hNormalization)                                                 \n",
            "                                                                 \n",
            " dense_10 (Dense)            (None, 100)               30100     \n",
            "                                                                 \n",
            " batch_normalization_8 (Batc  (None, 100)              400       \n",
            " hNormalization)                                                 \n",
            "                                                                 \n",
            " dense_11 (Dense)            (None, 10)                1010      \n",
            "                                                                 \n",
            "=================================================================\n",
            "Total params: 271,346\n",
            "Trainable params: 268,978\n",
            "Non-trainable params: 2,368\n",
            "_________________________________________________________________\n"
          ]
        }
      ]
    },
    {
      "cell_type": "code",
      "source": [
        "784*2*2 +300*2*2+100*2*2   #(2 trainable and 2 non trainable parameters)\n",
        "#total parameters"
      ],
      "metadata": {
        "colab": {
          "base_uri": "https://localhost:8080/"
        },
        "id": "2ve5HFUuQ0SS",
        "outputId": "aa579275-98cb-4d2b-c6d8-faf8aa0aee44"
      },
      "execution_count": null,
      "outputs": [
        {
          "output_type": "execute_result",
          "data": {
            "text/plain": [
              "4736"
            ]
          },
          "metadata": {},
          "execution_count": 15
        }
      ]
    },
    {
      "cell_type": "code",
      "source": [
        "bn1=model.layers[1]"
      ],
      "metadata": {
        "id": "yAdJCKl5Qpfh"
      },
      "execution_count": null,
      "outputs": []
    },
    {
      "cell_type": "code",
      "source": [
        "for variable in bn1.variables:\n",
        "  print(variable.name,variable.trainable)"
      ],
      "metadata": {
        "colab": {
          "base_uri": "https://localhost:8080/"
        },
        "id": "LjPKsBGMRdin",
        "outputId": "2d6a24c5-7f7f-4778-e02b-df84f0c7d61a"
      },
      "execution_count": null,
      "outputs": [
        {
          "output_type": "stream",
          "name": "stdout",
          "text": [
            "batch_normalization_6/gamma:0 True\n",
            "batch_normalization_6/beta:0 True\n",
            "batch_normalization_6/moving_mean:0 False\n",
            "batch_normalization_6/moving_variance:0 False\n"
          ]
        }
      ]
    },
    {
      "cell_type": "code",
      "source": [
        "model.compile(loss=\"sparse_categorical_crossentropy\",\n",
        "              optimizer=tf.keras.optimizers.SGD(lr=1e-3),\n",
        "              metrics=[\"accuracy\"]\n",
        "              )"
      ],
      "metadata": {
        "colab": {
          "base_uri": "https://localhost:8080/"
        },
        "id": "QDw_NtVRRd0U",
        "outputId": "3761f922-0f4d-4d16-d799-086f833e8f55"
      },
      "execution_count": null,
      "outputs": [
        {
          "output_type": "stream",
          "name": "stderr",
          "text": [
            "WARNING:absl:`lr` is deprecated in Keras optimizer, please use `learning_rate` or use the legacy optimizer, e.g.,tf.keras.optimizers.legacy.SGD.\n"
          ]
        }
      ]
    },
    {
      "cell_type": "code",
      "source": [
        "start=time.time()\n",
        "history=model.fit(X_train,y_train,epochs=10,validation_data=(X_valid,y_valid),verbose=2)\n",
        "\n",
        "#end time\n",
        "end=time.time()\n",
        "\n",
        "print(f\"Runtime of the program is {end-start} \")"
      ],
      "metadata": {
        "colab": {
          "base_uri": "https://localhost:8080/"
        },
        "id": "gs4QKjJ_RMp4",
        "outputId": "a97de9e3-651f-4665-f397-5ae881c36b68"
      },
      "execution_count": null,
      "outputs": [
        {
          "output_type": "stream",
          "name": "stdout",
          "text": [
            "Epoch 1/10\n",
            "1719/1719 - 11s - loss: 0.5333 - accuracy: 0.8142 - val_loss: 0.3854 - val_accuracy: 0.8628 - 11s/epoch - 7ms/step\n",
            "Epoch 2/10\n",
            "1719/1719 - 10s - loss: 0.3925 - accuracy: 0.8583 - val_loss: 0.3452 - val_accuracy: 0.8738 - 10s/epoch - 6ms/step\n",
            "Epoch 3/10\n",
            "1719/1719 - 9s - loss: 0.3537 - accuracy: 0.8725 - val_loss: 0.3355 - val_accuracy: 0.8758 - 9s/epoch - 5ms/step\n",
            "Epoch 4/10\n",
            "1719/1719 - 9s - loss: 0.3248 - accuracy: 0.8824 - val_loss: 0.3185 - val_accuracy: 0.8854 - 9s/epoch - 5ms/step\n",
            "Epoch 5/10\n",
            "1719/1719 - 10s - loss: 0.3030 - accuracy: 0.8885 - val_loss: 0.3079 - val_accuracy: 0.8904 - 10s/epoch - 6ms/step\n",
            "Epoch 6/10\n",
            "1719/1719 - 10s - loss: 0.2866 - accuracy: 0.8952 - val_loss: 0.3043 - val_accuracy: 0.8906 - 10s/epoch - 6ms/step\n",
            "Epoch 7/10\n",
            "1719/1719 - 16s - loss: 0.2761 - accuracy: 0.9005 - val_loss: 0.3012 - val_accuracy: 0.8908 - 16s/epoch - 9ms/step\n",
            "Epoch 8/10\n",
            "1719/1719 - 10s - loss: 0.2616 - accuracy: 0.9033 - val_loss: 0.3093 - val_accuracy: 0.8876 - 10s/epoch - 6ms/step\n",
            "Epoch 9/10\n",
            "1719/1719 - 9s - loss: 0.2491 - accuracy: 0.9081 - val_loss: 0.3030 - val_accuracy: 0.8930 - 9s/epoch - 5ms/step\n",
            "Epoch 10/10\n",
            "1719/1719 - 10s - loss: 0.2391 - accuracy: 0.9130 - val_loss: 0.3000 - val_accuracy: 0.8914 - 10s/epoch - 6ms/step\n",
            "Runtime of the program is 104.18274688720703 \n"
          ]
        }
      ]
    },
    {
      "cell_type": "markdown",
      "source": [
        "\n",
        "\n",
        "*   Runtime is 104 sec.\n",
        "*   Accuracy 89%\n",
        "\n"
      ],
      "metadata": {
        "id": "bZSgAxhtSTNU"
      }
    },
    {
      "cell_type": "code",
      "source": [],
      "metadata": {
        "id": "IY3tPhl5Rr52"
      },
      "execution_count": null,
      "outputs": []
    }
  ]
}